{
 "cells": [
  {
   "cell_type": "markdown",
   "id": "8390a4e6",
   "metadata": {},
   "source": [
    "# 4. 相関の尺度"
   ]
  },
  {
   "cell_type": "markdown",
   "id": "04f4dac0",
   "metadata": {},
   "source": [
    "### **例4.9** CCコピュラのケンドール順位相関に関する数値積分"
   ]
  },
  {
   "cell_type": "code",
   "execution_count": null,
   "id": "66c6ec2c",
   "metadata": {},
   "outputs": [],
   "source": [
    "'''\n",
    "以下のRのコードを，Pythonのコードに変換する。\n",
    "\n",
    "theta = 1\n",
    "func1 = function(u){\n",
    "    func2=function(v){\n",
    "        C=u*v*exp(theta* (1-u) * (1-v))\n",
    "        D=(1+(3*u*v-u-v)*theta+u*v*(1-u)*(1-v)*theta^2)\n",
    "        C*D*exp(theta*(1-u)*(1-v))\n",
    "    }\n",
    "    integrate(func2, 0, 1)$value\n",
    "}\n",
    "Tau = 4*integrate(Vectorize(func1), 0, 1)$value - 1\n",
    "Tau\n",
    "'''\n",
    "\n",
    "\n",
    "\n"
   ]
  }
 ],
 "metadata": {
  "kernelspec": {
   "display_name": ".venv",
   "language": "python",
   "name": "python3"
  },
  "language_info": {
   "codemirror_mode": {
    "name": "ipython",
    "version": 3
   },
   "file_extension": ".py",
   "mimetype": "text/x-python",
   "name": "python",
   "nbconvert_exporter": "python",
   "pygments_lexer": "ipython3",
   "version": "3.12.6"
  }
 },
 "nbformat": 4,
 "nbformat_minor": 5
}
